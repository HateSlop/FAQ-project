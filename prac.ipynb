{
 "cells": [
  {
   "cell_type": "code",
   "execution_count": 1,
   "metadata": {},
   "outputs": [
    {
     "name": "stderr",
     "output_type": "stream",
     "text": [
      "USER_AGENT environment variable not set, consider setting it to identify your requests.\n",
      "Fetching pages: 100%|##########| 1/1 [00:00<00:00,  3.06it/s]\n"
     ]
    },
    {
     "name": "stdout",
     "output_type": "stream",
     "text": [
      "구조화된 FAQ 데이터:\n",
      "\n",
      "Index: 1, Question: 대학수학능력시험이란 무엇인가요?, Answer: 대학수학능력시험은 고등학교 졸업(예정)자를 대상으로 대학 교육에 필요한 수학 능력을 측정하기 위해 한국교육과정평가원에서 매년 11월 셋째 토요일 직전 목요일마다 시행하는 표준화 시험입니다.\n",
      "Index: 2, Question: 대학수학능력시험의 공식 명칭은 무엇인가요?, Answer: 공식 명칭은 '대학수학능력시험(大學修學能力試驗)'이며, 보통 이를 줄여 '수능(修能)', '대수능(大修能)'이라고 부릅니다. 영어 명칭은 'College Scholastic Ability Test'이며, 두문자어로 'CSAT'이라고 합니다.\n",
      "Index: 3, Question: 대학수학능력시험의 역사에 대해 알려주세요., Answer: 대학수학능력시험은 1993년부터 시행되었으며, 그 이전에는 대학입학 예비고사와 대학입학 학력고사가 있었습니다. 수능은 기존의 학력고사 체계와의 차별성을 두고 평가 기준과 목적, 평가 방법을 개혁한 시험입니다.\n",
      "Index: 4, Question: 대학수학능력시험의 주요 영역은 무엇인가요?, Answer: 대학수학능력시험의 주요 영역은 국어, 수학, 영어, 한국사, 사회탐구, 과학탐구, 직업탐구, 제2외국어/한문으로 나뉩니다.\n",
      "Index: 5, Question: 대학수학능력시험의 성적 산출 방식은 어떻게 되나요?, Answer: 대학수학능력시험의 성적은 표준점수, 백분위, 등급으로 산출됩니다. 표준점수는 원점수를 기반으로 평균과 표준편차를 이용해 산출되며, 백분위는 응시자 수를 100명으로 가정했을 때의 상대적 위치를 나타냅니다. 등급은 백분위에 따라 1~9등급으로 나뉩니다.\n",
      "Index: 6, Question: 대학수학능력시험의 출제 과정은 어떻게 되나요?, Answer: 대학수학능력시험의 출제는 대학 교수와 고등학교 교사로 구성된 출제위원과 검토위원이 참여하며, 출제 시작부터 시험 종료까지 철저한 보안 속에서 진행됩니다. 문제 출제 후에는 여러 차례 검토와 수정 과정을 거쳐 최종 확정됩니다.\n",
      "Index: 7, Question: 대학수학능력시험의 EBS 연계는 무엇인가요?, Answer: EBS 연계는 사교육 경감과 교육 격차 감소를 목표로 하여 EBS 수능 교재인 수능특강, 수능완성의 내용을 일부 변형하여 실제 모의평가와 수능 시험 문제에 적용시키는 것입니다. 연계율은 약 70%입니다.\n",
      "Index: 8, Question: 대학수학능력시험의 부정행위 유형과 처벌은 무엇인가요?, Answer: 부정행위 유형에는 다른 수험생의 답안지를 보거나 자신의 답안지를 보여주는 행위, 부정한 휴대물을 보거나 무선기기 등을 이용하는 행위 등이 있으며, 적발 시 당해 시험 무효 및 1년간 응시 자격 정지 등의 처벌을 받습니다.\n",
      "Index: 9, Question: 대학수학능력시험의 성적 통지 방식은 어떻게 되나요?, Answer: 대학수학능력시험의 성적은 시험일로부터 약 20일 후에 통지되며, 표준점수, 백분위, 등급이 포함된 성적표가 제공됩니다. 성적표는 온라인으로 확인할 수 있으며, 필요 시 종이 성적표도 발급받을 수 있습니다.\n",
      "Index: 10, Question: 대학수학능력시험의 시험장 반입 허용 및 제한 물품은 무엇인가요?, Answer: 시험장 반입 허용 물품에는 수험표, 신분증, 컴퓨터용 사인펜, 흰색 수정테이프 등이 있으며, 반입 절대 금지 물품에는 모든 전자기기, 스마트워치, 전자담배 등이 포함됩니다. 시험 중에는 아날로그 시계만 휴대할 수 있습니다.\n"
     ]
    }
   ],
   "source": [
    "from langchain_community.document_loaders import AsyncHtmlLoader\n",
    "from langchain_community.document_transformers import Html2TextTransformer\n",
    "from utils import call_openai\n",
    "from pydantic import BaseModel, ValidationError\n",
    "from typing import List\n",
    "import json\n",
    "\n",
    "class FAQItem(BaseModel):\n",
    "    index: int\n",
    "    question: str\n",
    "    answer: str\n",
    "\n",
    "class FAQList(BaseModel):\n",
    "    faqs: List[FAQItem]\n",
    "\n",
    "# 나무위키 대학수학능력시험 관련 페이지 URL\n",
    "url = \"https://namu.wiki/w/%EB%8C%80%ED%95%99%EC%88%98%ED%95%99%EB%8A%A5%EB%A0%A5%EC%8B%9C%ED%97%98\"\n",
    "\n",
    "loader = AsyncHtmlLoader([url],header_template={\"User-Agent\": \"WangHS\"})\n",
    "\n",
    "docs = loader.load()\n",
    "\n",
    "content = docs[0].page_content\n",
    "\n",
    "transformer = Html2TextTransformer()\n",
    "\n",
    "plain = transformer.transform_documents(docs)\n",
    "\n",
    "plain_text = plain[0].page_content\n",
    "\n",
    "prompt = \"\"\"대표적인 10의 FAQ를 아래의 context를 보고 생성하시오.\n",
    "출력포맷은 리스트이며, 세부 내용은 다음과 같습니다.\n",
    "반드시 출력포맷만을 생성하고, 다른 텍스트는 생성하지 마시오.\n",
    "[{\"index\": <인덱스 번호>, \"question\": <질문>, \"answer\": <답변>}, ...]\n",
    "\n",
    "Context:\n",
    "\"\"\"\n",
    "\n",
    "FAQ = call_openai(prompt + plain_text, model='gpt-4o-2024-05-13')\n",
    "\n",
    "FAQ_data = json.loads(FAQ)\n",
    "# Pydantic 모델로 데이터 구조화\n",
    "try:\n",
    "    structured_faq = FAQList(faqs=FAQ_data)  # FAQ 데이터를 Pydantic 모델로 변환\n",
    "    print(\"구조화된 FAQ 데이터:\\n\")\n",
    "    for item in structured_faq.faqs:\n",
    "        print(f\"Index: {item.index}, Question: {item.question}, Answer: {item.answer}\")\n",
    "except ValidationError as e:\n",
    "    print(f\"검증 오류 발생: {e}\")\n"
   ]
  },
  {
   "cell_type": "code",
   "execution_count": null,
   "metadata": {},
   "outputs": [
    {
     "name": "stdout",
     "output_type": "stream",
     "text": [
      "검색 결과:\n",
      "1: 부정행위 유형에는 다른 수험생의 답안지를 보거나 자신의 답안지를 보여주는 행위, 부정한 휴대물을 보거나 무선기기 등을 이용하는 행위 등이 있으며, 적발 시 당해 시험 무효 및 1년간 응시 자격 정지 등의 처벌을 받습니다.\n",
      "2: 대학수학능력시험의 출제는 대학 교수와 고등학교 교사로 구성된 출제위원과 검토위원이 참여하며, 출제 시작부터 시험 종료까지 철저한 보안 속에서 진행됩니다. 문제 출제 후에는 여러 차례 검토와 수정 과정을 거쳐 최종 확정됩니다.\n",
      "3: 대학수학능력시험의 성적은 시험일로부터 약 20일 후에 통지되며, 표준점수, 백분위, 등급이 포함된 성적표가 제공됩니다. 성적표는 온라인으로 확인할 수 있으며, 필요 시 종이 성적표도 발급받을 수 있습니다.\n",
      "4: 대학수학능력시험의 주요 영역은 국어, 수학, 영어, 한국사, 사회탐구, 과학탐구, 직업탐구, 제2외국어/한문으로 나뉩니다.\n",
      "5: 대학수학능력시험은 고등학교 졸업(예정)자를 대상으로 대학 교육에 필요한 수학 능력을 측정하기 위해 한국교육과정평가원에서 매년 11월 셋째 토요일 직전 목요일마다 시행하는 표준화 시험입니다.\n"
     ]
    }
   ],
   "source": [
    "from utils import get_embeddings, get_embedding\n",
    "import faiss\n",
    "import numpy as np\n",
    "\n",
    "questions = [item.question for item in structured_faq.faqs]\n",
    "\n",
    "embqs = np.array(get_embeddings(questions))\n",
    "\n",
    "index = faiss.IndexIDMap(faiss.IndexFlatIP(embqs.shape[1]))\n",
    "ids = np.array([item.index for item in structured_faq.faqs])\n",
    "index.add_with_ids(embqs, ids)\n",
    "\n",
    "faiss.write_index(index, './res/exam_FAQ.index')\n"
   ]
  },
  {
   "cell_type": "code",
   "execution_count": null,
   "metadata": {},
   "outputs": [],
   "source": [
    "import pickle\n",
    "\n",
    "with open('./res/faq_data.pkl', 'wb') as f:\n",
    "    pickle.dump(structured_faq, f)\n"
   ]
  },
  {
   "cell_type": "code",
   "execution_count": 25,
   "metadata": {},
   "outputs": [
    {
     "name": "stdout",
     "output_type": "stream",
     "text": [
      "검색 결과:\n",
      "1. 질문: 대학수학능력시험의 역사에 대해 알려주세요.\n",
      "   답변: 대학수학능력시험은 1993년부터 시행되었으며, 그 이전에는 대학입학 예비고사와 대학입학 학력고사가 있었습니다. 수능은 기존의 학력고사 체계와의 차별성을 두고 평가 기준과 목적, 평가 방법을 개혁한 시험입니다.\n",
      "2. 질문: 대학수학능력시험의 출제 과정은 어떻게 되나요?\n",
      "   답변: 대학수학능력시험의 출제는 대학 교수와 고등학교 교사로 구성된 출제위원과 검토위원이 참여하며, 출제 시작부터 시험 종료까지 철저한 보안 속에서 진행됩니다. 문제 출제 후에는 여러 차례 검토와 수정 과정을 거쳐 최종 확정됩니다.\n",
      "3. 질문: 대학수학능력시험의 공식 명칭은 무엇인가요?\n",
      "   답변: 공식 명칭은 '대학수학능력시험(大學修學能力試驗)'이며, 보통 이를 줄여 '수능(修能)', '대수능(大修能)'이라고 부릅니다. 영어 명칭은 'College Scholastic Ability Test'이며, 두문자어로 'CSAT'이라고 합니다.\n",
      "대학수학능력시험은 1993년부터 시행되었습니다.\n"
     ]
    }
   ],
   "source": [
    "# ID를 키로 FAQItem 객체를 저장하는 딕셔너리 생성\n",
    "faq_dict = {item.index: item for item in structured_faq.faqs}\n",
    "\n",
    "def search(query):\n",
    "    # 검색할 쿼리의 임베딩 생성\n",
    "    query_vector = np.array(get_embedding(query), dtype=np.float32).reshape(1, -1)\n",
    "    \n",
    "    # 상위 K개의 결과 검색\n",
    "    k = 3\n",
    "    distances, indices = index.search(query_vector, k)\n",
    "    \n",
    "    # ID를 통해 structured_faq.faqs에서 question과 answer 추출\n",
    "    results = [(faq_dict[_id].question, faq_dict[_id].answer) for _id in indices[0] if _id != -1]\n",
    "    \n",
    "    return results\n",
    "\n",
    "# 예시 쿼리 실행\n",
    "query = \"대학수학능력시험은 언제 생겼나요?\"\n",
    "results = search(query)\n",
    "\n",
    "# 검색 결과 출력\n",
    "print(\"검색 결과:\")\n",
    "for idx, (question, answer) in enumerate(results, 1):\n",
    "    print(f\"{idx}. 질문: {question}\")\n",
    "    print(f\"   답변: {answer}\")\n",
    "\n",
    "\n",
    "\n",
    "prompt_faq = f\"\"\"제시된 관련있는 FAQ를 참고하여 아래의 질문에 적절한 대답을 하시오.\n",
    "만약 제시된 FAQ와 질문이 관련성이 없다면 관련된 FAQ가 존재하지 않는다고 답하시오.\n",
    "\n",
    "FAQ:\n",
    "{results}\n",
    "Question:\n",
    "{query}\n",
    "\"\"\"\n",
    "\n",
    "final_result = call_openai(prompt_faq, model='gpt-4o-mini')\n",
    "print(final_result)"
   ]
  }
 ],
 "metadata": {
  "kernelspec": {
   "display_name": ".venv",
   "language": "python",
   "name": "python3"
  },
  "language_info": {
   "codemirror_mode": {
    "name": "ipython",
    "version": 3
   },
   "file_extension": ".py",
   "mimetype": "text/x-python",
   "name": "python",
   "nbconvert_exporter": "python",
   "pygments_lexer": "ipython3",
   "version": "3.12.6"
  }
 },
 "nbformat": 4,
 "nbformat_minor": 2
}
